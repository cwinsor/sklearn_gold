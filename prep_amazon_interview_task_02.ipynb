{
 "cells": [
  {
   "cell_type": "markdown",
   "metadata": {},
   "source": [
    "# Amazon interview task #2"
   ]
  },
  {
   "cell_type": "code",
   "execution_count": 107,
   "metadata": {},
   "outputs": [],
   "source": [
    "import re"
   ]
  },
  {
   "cell_type": "code",
   "execution_count": 108,
   "metadata": {},
   "outputs": [],
   "source": [
    "def calc_items(str):\n",
    "\n",
    "    y = re.split(\"\\|\", str)\n",
    "    cropped = y[1:len(y)-1]\n",
    "\n",
    "    total_items = 0\n",
    "    for compartment in cropped:\n",
    "        total_items += len(compartment)\n",
    "\n",
    "    print(f\"total_items {total_items}\")\n",
    "    return total_items"
   ]
  },
  {
   "cell_type": "code",
   "execution_count": 109,
   "metadata": {},
   "outputs": [
    {
     "name": "stdout",
     "output_type": "stream",
     "text": [
      "total_items 6\n",
      "total_items 6\n",
      "total_items 6\n",
      "total_items 6\n",
      "total_items 0\n",
      "total_items 0\n",
      "total_items 0\n",
      "total_items 1\n",
      "total_items 0\n",
      "total_items 0\n"
     ]
    }
   ],
   "source": [
    "# expect 6 for the first set of tests, 1 for the |a|, 0 for the rest\n",
    "test_list = [\n",
    "    \"a||aaa||a|aa|a\",\n",
    "    \"||aaa||a|aa|a\",\n",
    "    \"a||aaa||a|aa|\",\n",
    "    \"||aaa||a|aa|\",\n",
    "    \"\",\n",
    "    \"|\",\n",
    "    \"||\",\n",
    "    \"|a|\",\n",
    "    \"a|\",\n",
    "    \"|a\",\n",
    "    ]\n",
    "\n",
    "for test in test_list:\n",
    "    calc_items(test)"
   ]
  }
 ],
 "metadata": {
  "kernelspec": {
   "display_name": "venv",
   "language": "python",
   "name": "python3"
  },
  "language_info": {
   "codemirror_mode": {
    "name": "ipython",
    "version": 3
   },
   "file_extension": ".py",
   "mimetype": "text/x-python",
   "name": "python",
   "nbconvert_exporter": "python",
   "pygments_lexer": "ipython3",
   "version": "3.9.12"
  },
  "orig_nbformat": 4
 },
 "nbformat": 4,
 "nbformat_minor": 2
}
