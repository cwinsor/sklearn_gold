{
 "cells": [
  {
   "cell_type": "markdown",
   "metadata": {},
   "source": [
    "# Amazon Interview Task #1\n",
    "\n",
    "given a logfile of transactions [user, user, amount]\n",
    "\n",
    "get a list of users with # transactions above a threshold"
   ]
  },
  {
   "cell_type": "code",
   "execution_count": 34,
   "metadata": {},
   "outputs": [],
   "source": [
    "logs = [\"1 01 200\", \"10 10 300\", \"1 10 100\"]\n",
    "threshold = 0"
   ]
  },
  {
   "cell_type": "code",
   "execution_count": 40,
   "metadata": {},
   "outputs": [],
   "source": [
    "def processLogs(logs, threshold):\n",
    "\n",
    "    the_record = {}\n",
    "\n",
    "    # def by_value(xx):\n",
    "    #     return the_record[xx]\n",
    "\n",
    "    for transaction in logs:\n",
    "        [a, b, amount] = transaction.split()\n",
    "        a = int(a)\n",
    "        b = int(b)\n",
    "        if a not in the_record.keys():\n",
    "            the_record[a] = 0\n",
    "        if b not in the_record.keys():\n",
    "            the_record[b] = 0\n",
    "\n",
    "        the_record[a] += 1\n",
    "        if b!=a:\n",
    "            the_record[b] += 1\n",
    "\n",
    "    # sk = sorted(the_record, key=by_value)\n",
    "    # new_dict = {k:the_record[k] for k in sk}\n",
    "\n",
    "    thresholded_list = []\n",
    "    for k, v in the_record.items():\n",
    "        print(f\"k {k} v {v}\")\n",
    "        if v >= threshold:\n",
    "            thresholded_list.append(k)\n",
    "\n",
    "    # print(\"input\")\n",
    "    # print(the_record)\n",
    "    # print(\"output\")\n",
    "    # print(new_dict)\n",
    "    print(f\"thresholded list {thresholded_list}\")\n",
    "    thresholded_list.sort()\n",
    "    print(f\"thresholded list {thresholded_list}\")\n",
    "    list_of_strings = [str(x) for x in thresholded_list]\n",
    "    return list_of_strings\n",
    "\n",
    "\n"
   ]
  },
  {
   "cell_type": "code",
   "execution_count": 41,
   "metadata": {},
   "outputs": [
    {
     "name": "stdout",
     "output_type": "stream",
     "text": [
      "k 1 v 2\n",
      "k 10 v 2\n",
      "thresholded list [1, 10]\n",
      "thresholded list [1, 10]\n"
     ]
    },
    {
     "data": {
      "text/plain": [
       "[1, 10]"
      ]
     },
     "execution_count": 41,
     "metadata": {},
     "output_type": "execute_result"
    }
   ],
   "source": [
    "processLogs(logs, threshold)"
   ]
  },
  {
   "cell_type": "code",
   "execution_count": null,
   "metadata": {},
   "outputs": [],
   "source": []
  }
 ],
 "metadata": {
  "kernelspec": {
   "display_name": "venv",
   "language": "python",
   "name": "python3"
  },
  "language_info": {
   "codemirror_mode": {
    "name": "ipython",
    "version": 3
   },
   "file_extension": ".py",
   "mimetype": "text/x-python",
   "name": "python",
   "nbconvert_exporter": "python",
   "pygments_lexer": "ipython3",
   "version": "3.9.12"
  },
  "orig_nbformat": 4
 },
 "nbformat": 4,
 "nbformat_minor": 2
}
