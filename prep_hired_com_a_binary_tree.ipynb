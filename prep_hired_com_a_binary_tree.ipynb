{
 "cells": [
  {
   "cell_type": "markdown",
   "metadata": {},
   "source": [
    "# Binary Tree and Binary Search Tree (BST)"
   ]
  },
  {
   "cell_type": "markdown",
   "metadata": {},
   "source": [
    "### Binary Tree from Hired (pre-assessment)\n"
   ]
  },
  {
   "cell_type": "code",
   "execution_count": 4,
   "metadata": {},
   "outputs": [],
   "source": [
    "def solution(arr):\n",
    "\n",
    "    def sum_below(my_1_based_index):\n",
    "        my_0_based_index = my_1_based_index - 1\n",
    "\n",
    "        my_level = my_1_based_index // 2\n",
    "        my_offset_in_level = my_1_based_index - 2^my_level\n",
    "        \n",
    "        print(f\"my_1_based_index {my_1_based_index} my_level {my_level} my_offset_in_level {my_offset_in_level}\")\n",
    "\n",
    "        if my_1_based_index > len(arr):\n",
    "            print(\"  is off array\")\n",
    "            return 0, \"equal\"\n",
    "        if arr[my_1_based_index - 1] == -1:\n",
    "            print(\"  is a -1 cell\")\n",
    "            return 0, \"equal\"\n",
    "        \n",
    "        my_val = arr[my_1_based_index - 1]\n",
    "        print(f\"my_val {my_val}\")\n",
    "\n",
    "        left_one_based_index  = (2^(my_level+1)) + (2*my_offset_in_level) + 0\n",
    "        right_one_based_index = (2^(my_level+1)) + (2*my_offset_in_level) + 1\n",
    "        print(f\"left_one_based_index {left_one_based_index} right_one_based_index {right_one_based_index}\")\n",
    "        \n",
    "\n",
    "        sum_left, _ = sum_below(left_one_based_index)\n",
    "        assert False, \"hold up\"\n",
    "        sum_right, _ = sum_below(right_one_based_index)\n",
    "\n",
    "        if sum_left > sum_right:\n",
    "            compare = \"left\"\n",
    "        elif sum_right > sum_left:\n",
    "            compare = \"right\"\n",
    "        else:\n",
    "            compare = \"equal\"\n",
    "\n",
    "        total = sum_left + sum_right + arr[my_index]\n",
    "\n",
    "        return total, compare\n",
    "\n",
    "    sum_below(1)\n",
    "    \n",
    "    \n"
   ]
  },
  {
   "cell_type": "code",
   "execution_count": null,
   "metadata": {},
   "outputs": [
    {
     "ename": "",
     "evalue": "",
     "output_type": "error",
     "traceback": [
      "\u001b[1;31mThe Kernel crashed while executing code in the the current cell or a previous cell. Please review the code in the cell(s) to identify a possible cause of the failure. Click <a href='https://aka.ms/vscodeJupyterKernelCrash'>here</a> for more info. View Jupyter <a href='command:jupyter.viewOutput'>log</a> for further details."
     ]
    }
   ],
   "source": [
    "arr = [10,11,12]\n",
    "solution(arr)"
   ]
  },
  {
   "cell_type": "code",
   "execution_count": null,
   "metadata": {},
   "outputs": [],
   "source": [
    "class BtNode:\n",
    "    def __init__(self, data):\n",
    "        self.left = None\n",
    "        self.right = None\n",
    "        self.data = data\n",
    "\n",
    "    def insert(self, data):\n",
    "        if data < self.data:\n",
    "            if self.left is None:\n",
    "                    self.left = BtNode(data)\n",
    "            else:\n",
    "                self.left.insert(data)\n",
    "        elif data > self.data:\n",
    "            if self.right is None:\n",
    "                self.right = BtNode(data)\n",
    "            else:\n",
    "                self.right.insert(data)\n",
    "\n",
    "    def print_tree(self):\n",
    "        if self.left:\n",
    "            self.left.print_tree()\n",
    "        print( self.data)\n",
    "        if self.right:\n",
    "            self.right.print_tree()\n",
    "\n",
    "    def preorder_traversal(self):\n",
    "        res = []\n",
    "        res.append(self.data)\n",
    "        if self.left:\n",
    "            res = res + self.left.preorder_traversal()\n",
    "        if self.right:\n",
    "            res = res + self.right.preorder_traversal()\n",
    "        return res\n",
    "\n",
    "    def inorder_traversal(self):\n",
    "        res = []\n",
    "        if self.left:\n",
    "            res = self.left.inorder_traversal()\n",
    "        res.append(root.data)\n",
    "        if self.right:\n",
    "            res = res + self.right.inorder_traversal()\n",
    "        return res\n",
    "\n",
    "    def postorder_traversal(self):\n",
    "        res = []\n",
    "        if self.left:\n",
    "            res = res + self.left.postorder_traversal()\n",
    "        if self.right:\n",
    "            res = res + self.right.postorder_traversal()\n",
    "        res.append(self.data)\n",
    "        return res"
   ]
  },
  {
   "cell_type": "code",
   "execution_count": 14,
   "metadata": {},
   "outputs": [
    {
     "name": "stdout",
     "output_type": "stream",
     "text": [
      "3\n",
      "5\n",
      "6\n",
      "12\n",
      "13\n",
      "14\n",
      "17\n"
     ]
    }
   ],
   "source": [
    "root = BtNode(12)\n",
    "root.insert(14)\n",
    "root.insert(6)\n",
    "root.insert(5)\n",
    "root.insert(3)\n",
    "root.insert(13)\n",
    "root.insert(13) # will be ignored in BTree\n",
    "root.insert(17)\n",
    "\n",
    "root.print_tree()"
   ]
  },
  {
   "cell_type": "code",
   "execution_count": 16,
   "metadata": {},
   "outputs": [
    {
     "data": {
      "text/plain": [
       "[12, 12, 12, 12, 12, 12, 12]"
      ]
     },
     "execution_count": 16,
     "metadata": {},
     "output_type": "execute_result"
    }
   ],
   "source": [
    "root.inorder_traversal()"
   ]
  },
  {
   "cell_type": "code",
   "execution_count": 18,
   "metadata": {},
   "outputs": [
    {
     "data": {
      "text/plain": [
       "[12, 6, 5, 3, 14, 13, 17]"
      ]
     },
     "execution_count": 18,
     "metadata": {},
     "output_type": "execute_result"
    }
   ],
   "source": [
    "root.preorder_traversal()"
   ]
  },
  {
   "cell_type": "code",
   "execution_count": 19,
   "metadata": {},
   "outputs": [
    {
     "data": {
      "text/plain": [
       "[3, 5, 6, 13, 17, 14, 12]"
      ]
     },
     "execution_count": 19,
     "metadata": {},
     "output_type": "execute_result"
    }
   ],
   "source": [
    "root.postorder_traversal()"
   ]
  },
  {
   "cell_type": "markdown",
   "metadata": {},
   "source": [
    "### Binary Search Tree (BST)\n",
    "https://www.tutorialspoint.com/python_data_structure/python_binary_search_tree.htm#\n",
    "\n",
    "subtle differences from \"binary tree\":\n",
    "* nodes ordered as <= (formerly <) meaning the tree can have duplicate-valued nodes\n",
    "* allows searching based on value, returning list of nodes or [] if no matches"
   ]
  },
  {
   "cell_type": "code",
   "execution_count": 20,
   "metadata": {},
   "outputs": [],
   "source": [
    "class BstNode:\n",
    "    data = None\n",
    "\n",
    "    def __init__(self, data):\n",
    "        self.left = None\n",
    "        self.right = None\n",
    "        self.data = data\n",
    "\n",
    "    def insert(self, data):\n",
    "        if data <= self.data:\n",
    "            if self.left is None:\n",
    "                    self.left = BstNode(data)\n",
    "            else:\n",
    "                self.left.insert(data)\n",
    "        else:\n",
    "            if self.right is None:\n",
    "                self.right = BstNode(data)\n",
    "            else:\n",
    "                self.right.insert(data)\n",
    "\n",
    "    def print_tree(self):\n",
    "        y = self.inorder_traversal()\n",
    "        print(y)\n",
    "\n",
    "    def inorder_traversal(self):\n",
    "        res = []\n",
    "        if self.left:\n",
    "            res = self.left.inorder_traversal()\n",
    "        res.append(self.data)\n",
    "        if self.right:\n",
    "            res = res + self.right.inorder_traversal()\n",
    "        return res\n",
    "    \n",
    "    def find_val(self, target):\n",
    "        res = []\n",
    "        if self.left:\n",
    "            res = self.left.find_val(target)\n",
    "        if self.data == target:\n",
    "            res.append(self)\n",
    "        if self.right:\n",
    "            res = res + self.right.find_val(target)\n",
    "        return res\n"
   ]
  },
  {
   "cell_type": "code",
   "execution_count": 21,
   "metadata": {},
   "outputs": [
    {
     "data": {
      "text/plain": [
       "[3, 5, 6, 12, 13, 13, 14, 17]"
      ]
     },
     "execution_count": 21,
     "metadata": {},
     "output_type": "execute_result"
    }
   ],
   "source": [
    "root = BstNode(12)\n",
    "root.insert(14)\n",
    "root.insert(6)\n",
    "root.insert(5)\n",
    "root.insert(3)\n",
    "root.insert(13)\n",
    "root.insert(13) # NOT ignored in BSTree\n",
    "root.insert(17)\n",
    "\n",
    "root.inorder_traversal()"
   ]
  },
  {
   "cell_type": "code",
   "execution_count": null,
   "metadata": {},
   "outputs": [],
   "source": []
  },
  {
   "cell_type": "code",
   "execution_count": 22,
   "metadata": {},
   "outputs": [
    {
     "name": "stdout",
     "output_type": "stream",
     "text": [
      "13\n",
      "13\n"
     ]
    }
   ],
   "source": [
    "matches = root.find_val(13)\n",
    "for m in matches:\n",
    "    print(m.data)"
   ]
  },
  {
   "cell_type": "code",
   "execution_count": 23,
   "metadata": {},
   "outputs": [
    {
     "data": {
      "text/plain": [
       "[3, 5, 6]"
      ]
     },
     "execution_count": 23,
     "metadata": {},
     "output_type": "execute_result"
    }
   ],
   "source": [
    "# find node with value \"6\", then traverse from that point\n",
    "matches = root.find_val(6)\n",
    "matches[0].inorder_traversal()"
   ]
  },
  {
   "cell_type": "code",
   "execution_count": null,
   "metadata": {},
   "outputs": [],
   "source": []
  }
 ],
 "metadata": {
  "kernelspec": {
   "display_name": "venv",
   "language": "python",
   "name": "python3"
  },
  "language_info": {
   "codemirror_mode": {
    "name": "ipython",
    "version": 3
   },
   "file_extension": ".py",
   "mimetype": "text/x-python",
   "name": "python",
   "nbconvert_exporter": "python",
   "pygments_lexer": "ipython3",
   "version": "3.9.12"
  },
  "orig_nbformat": 4
 },
 "nbformat": 4,
 "nbformat_minor": 2
}
