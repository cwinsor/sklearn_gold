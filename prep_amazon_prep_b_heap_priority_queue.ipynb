{
 "cells": [
  {
   "cell_type": "markdown",
   "metadata": {},
   "source": [
    "# Heap (heapq)\n",
    "\n",
    "* https://docs.python.org/3/library/heapq.html\n",
    "* https://www.tutorialspoint.com/python_data_structure/python_heaps.\n",
    "* https://www.geeksforgeeks.org/benefits-of-heap-over-sorted-arrays/\n",
    "* https://www.geeksforgeeks.org/heap-queue-or-heapq-in-python/\n",
    "\n",
    "heap is a data structure that allows optimized access of items by highest (or lowest) value. A priority queue is an example where the goal is to access items in order of highest or lowest \"priority\".\n",
    "\n",
    "A heap may be thought of as a tree data structure where the root node always has the smallest (or largest) value. But internal implementation may differ and is hidden to the user, so really this is a thought exercise.\n",
    "\n",
    "User implementation of a heap in Python consists of a simple list which is managed and accessed via the \"heapq\" module methods. Those operations are:\n",
    "* heappush\n",
    "* heappop\n",
    "* heapify\n",
    "* heappushpop (push then pop)\n",
    "* heapreplace (pop then push)\n",
    "AND...\n",
    "* nsmallest(n, iterable, key=None)  where \"key\" is a one-argument function for comparison\n",
    "* nlargest(n, iterable, key=None)\n",
    "* merge(*iterables, key=None, reverse=False)\n",
    "\n",
    "\n",
    "All operations maintain the heap invariant. \"heapify\" is used to initially transform a list to a heap-list.\n",
    "\n",
    "Compared to a sorted list:\n",
    "* for initial creation a heap is better at O(N) vs sorting an array at O(N log N)\n",
    "* for insert/delete (dynamically adding/removing data) the heap is better at O(LogN) vs O(N) for sorted list.\n",
    "* for search (investigating static data) a sorted list is better at O(LogN) vs a heap at O(N)\n",
    "* heap does not allow random access\n"
   ]
  },
  {
   "cell_type": "code",
   "execution_count": 3,
   "metadata": {},
   "outputs": [],
   "source": [
    "import heapq"
   ]
  },
  {
   "cell_type": "code",
   "execution_count": 17,
   "metadata": {},
   "outputs": [
    {
     "name": "stdout",
     "output_type": "stream",
     "text": [
      "[9, 8, 2, 7, 6, 5]\n",
      "[2, 6, 5, 7, 8, 9]\n",
      "[1, 6, 2, 7, 8, 9, 5]\n"
     ]
    }
   ],
   "source": [
    "h = [9, 8, 2, 7, 6, 5]\n",
    "print(h)\n",
    "heapq.heapify(h)\n",
    "print(h)\n",
    "heapq.heappush(h, 1) # maintains heap invariant\n",
    "print(h)"
   ]
  },
  {
   "cell_type": "code",
   "execution_count": 18,
   "metadata": {},
   "outputs": [
    {
     "name": "stdout",
     "output_type": "stream",
     "text": [
      "1\n",
      "2\n",
      "5\n",
      "6\n",
      "7\n",
      "8\n",
      "9\n",
      "[]\n"
     ]
    }
   ],
   "source": [
    "while(h):\n",
    "    print(heapq.heappop(h))\n",
    "print(h)"
   ]
  },
  {
   "cell_type": "markdown",
   "metadata": {},
   "source": [
    "### nsmallest with key function ..."
   ]
  },
  {
   "cell_type": "code",
   "execution_count": 57,
   "metadata": {},
   "outputs": [
    {
     "name": "stdout",
     "output_type": "stream",
     "text": [
      "[8, 9, 7, 6]\n",
      "[8, 9, 7]\n",
      "[8, 9, 7, 6, 5]\n"
     ]
    }
   ],
   "source": [
    "def distance_from_8(x):\n",
    "    return abs(8 - x)\n",
    "\n",
    "h = [9, 8, 1, 5, 3, 2, 7, 6, 5]\n",
    "print(heapq.nsmallest(4, h, key=distance_from_8))\n",
    "print(heapq.nsmallest(3, h, key=distance_from_8))\n",
    "print(heapq.nsmallest(5, h, key=distance_from_8))"
   ]
  },
  {
   "cell_type": "markdown",
   "metadata": {},
   "source": [
    "### merge\n",
    "\n",
    "interestingly, the \"merge\" takes two sorted lists (iterables) returning an iterable. Because it starts with sorted lists (not heaps) and returns an iterable (not a heap) I'm not sure why this is part of \"heap\" ..."
   ]
  },
  {
   "cell_type": "code",
   "execution_count": 51,
   "metadata": {},
   "outputs": [
    {
     "name": "stdout",
     "output_type": "stream",
     "text": [
      "[2, 2, 3]\n",
      "[]\n"
     ]
    }
   ],
   "source": [
    "h1 = [9, 8, 2, 7, 6, 5]\n",
    "h2 = [2, 3, 4]\n",
    "heapq.heapify(h1)\n",
    "heapq.heapify(h2)\n",
    "h3 = heapq.merge(h1, h2) # merge returns an iterator\n",
    "print(heapq.nsmallest(3, h3))\n",
    "print(heapq.nsmallest(3, h3))\n"
   ]
  },
  {
   "cell_type": "markdown",
   "metadata": {},
   "source": [
    "### merge with key function..."
   ]
  },
  {
   "cell_type": "code",
   "execution_count": 36,
   "metadata": {},
   "outputs": [
    {
     "name": "stdout",
     "output_type": "stream",
     "text": [
      "2\n",
      "2\n",
      "3\n",
      "4\n",
      "6\n",
      "5\n",
      "7\n",
      "8\n",
      "9\n"
     ]
    },
    {
     "data": {
      "text/plain": [
       "[]"
      ]
     },
     "execution_count": 36,
     "metadata": {},
     "output_type": "execute_result"
    }
   ],
   "source": [
    "h1 = [9, 8, 2, 7, 6, 5]\n",
    "h2 = [2, 3, 4]\n",
    "heapq.heapify(h1)\n",
    "heapq.heapify(h2)\n",
    "\n",
    "# y = heapq.merge(h1, h2, key=distance_from_8) # merge using the function\n",
    "y = heapq.merge(h1, h2)\n",
    "for yn in y:\n",
    "    print(yn)\n",
    "list(y)"
   ]
  },
  {
   "cell_type": "code",
   "execution_count": null,
   "metadata": {},
   "outputs": [],
   "source": []
  }
 ],
 "metadata": {
  "kernelspec": {
   "display_name": "venv",
   "language": "python",
   "name": "python3"
  },
  "language_info": {
   "codemirror_mode": {
    "name": "ipython",
    "version": 3
   },
   "file_extension": ".py",
   "mimetype": "text/x-python",
   "name": "python",
   "nbconvert_exporter": "python",
   "pygments_lexer": "ipython3",
   "version": "3.9.12"
  },
  "orig_nbformat": 4
 },
 "nbformat": 4,
 "nbformat_minor": 2
}
