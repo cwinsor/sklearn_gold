{
 "cells": [
  {
   "cell_type": "code",
   "execution_count": 1,
   "metadata": {},
   "outputs": [],
   "source": [
    "def solution(year):\n",
    "    return (year-1) // 100 + 1"
   ]
  },
  {
   "cell_type": "code",
   "execution_count": 2,
   "metadata": {},
   "outputs": [
    {
     "data": {
      "text/plain": [
       "17"
      ]
     },
     "execution_count": 2,
     "metadata": {},
     "output_type": "execute_result"
    }
   ],
   "source": [
    "solution(1700)"
   ]
  },
  {
   "cell_type": "code",
   "execution_count": 3,
   "metadata": {},
   "outputs": [
    {
     "data": {
      "text/plain": [
       "'345'"
      ]
     },
     "execution_count": 3,
     "metadata": {},
     "output_type": "execute_result"
    }
   ],
   "source": [
    "foo = \"01234567\"\n",
    "# foo[-3:]\n",
    "foo[3:-2:1]\n",
    "# foo[::-1]"
   ]
  },
  {
   "cell_type": "code",
   "execution_count": 4,
   "metadata": {},
   "outputs": [
    {
     "data": {
      "text/plain": [
       "True"
      ]
     },
     "execution_count": 4,
     "metadata": {},
     "output_type": "execute_result"
    }
   ],
   "source": [
    "def palendrome(inputString):\n",
    "    return inputString[::-1] == inputString\n",
    "\n",
    "palendrome(\"012210\")"
   ]
  },
  {
   "cell_type": "code",
   "execution_count": 5,
   "metadata": {},
   "outputs": [
    {
     "data": {
      "text/plain": [
       "[0, 1, 2, 3]"
      ]
     },
     "execution_count": 5,
     "metadata": {},
     "output_type": "execute_result"
    }
   ],
   "source": [
    "list(range(0,4))"
   ]
  },
  {
   "cell_type": "code",
   "execution_count": 6,
   "metadata": {},
   "outputs": [
    {
     "name": "stdout",
     "output_type": "stream",
     "text": [
      "[-23, 4]\n",
      "-92\n",
      "[4, -3]\n",
      "-12\n",
      "[-3, 8]\n",
      "-24\n",
      "[8, -12]\n",
      "-96\n"
     ]
    },
    {
     "data": {
      "text/plain": [
       "-12"
      ]
     },
     "execution_count": 6,
     "metadata": {},
     "output_type": "execute_result"
    }
   ],
   "source": [
    "def greatest_pair_product(inputArray):\n",
    "    from decimal import Decimal\n",
    "    top_prod = Decimal('-Infinity')\n",
    "    for idx in range(0,len(inputArray)-1):\n",
    "        print(inputArray[idx:idx+2])\n",
    "        prod = inputArray[idx] * inputArray[idx+1]\n",
    "        print(prod)\n",
    "        if prod > top_prod:\n",
    "            top_prod = prod\n",
    "    return top_prod\n",
    "\n",
    "# greatest_pair_product([0,1,2,3,0])\n",
    "greatest_pair_product( [-23, 4, -3, 8, -12])\n"
   ]
  },
  {
   "cell_type": "code",
   "execution_count": 7,
   "metadata": {},
   "outputs": [
    {
     "name": "stdout",
     "output_type": "stream",
     "text": [
      "0\n",
      "1\n",
      "2\n",
      "3\n"
     ]
    },
    {
     "ename": "SyntaxError",
     "evalue": "'return' outside function (1735327824.py, line 10)",
     "output_type": "error",
     "traceback": [
      "\u001b[1;36m  Cell \u001b[1;32mIn[7], line 10\u001b[1;36m\u001b[0m\n\u001b[1;33m    return total\u001b[0m\n\u001b[1;37m    ^\u001b[0m\n\u001b[1;31mSyntaxError\u001b[0m\u001b[1;31m:\u001b[0m 'return' outside function\n"
     ]
    }
   ],
   "source": [
    "def uniques_count(n):\n",
    "    s = 0\n",
    "    for x in range(n):\n",
    "        print(x)\n",
    "        s += x\n",
    "    return s\n",
    "\n",
    "uniques = uniques_count(4)\n",
    "total = 1 + 4*uniques\n",
    "return total\n"
   ]
  },
  {
   "cell_type": "code",
   "execution_count": null,
   "metadata": {},
   "outputs": [
    {
     "data": {
      "text/plain": [
       "[1, 2, 3]"
      ]
     },
     "execution_count": 50,
     "metadata": {},
     "output_type": "execute_result"
    }
   ],
   "source": [
    "x = [1,3,2]\n",
    "x.sort()\n",
    "x"
   ]
  },
  {
   "cell_type": "code",
   "execution_count": null,
   "metadata": {},
   "outputs": [
    {
     "data": {
      "text/plain": [
       "1"
      ]
     },
     "execution_count": 67,
     "metadata": {},
     "output_type": "execute_result"
    }
   ],
   "source": [
    "def count_gaps_in_sequence(statues):\n",
    "    statues.sort()\n",
    "    gap_sum = 0\n",
    "    for idx in range(0, len(statues)-1):\n",
    "        # print(statues[idx])\n",
    "        # print(statues[idx + 1] - statues[idx])\n",
    "        gap_sum += statues[idx + 1] - statues[idx] - 1\n",
    "\n",
    "    return gap_sum\n",
    "\n",
    "x = [1,3,0,2, 5]\n",
    "count_gaps_in_sequence(x)"
   ]
  },
  {
   "cell_type": "code",
   "execution_count": null,
   "metadata": {},
   "outputs": [
    {
     "data": {
      "text/plain": [
       "[1]"
      ]
     },
     "execution_count": 79,
     "metadata": {},
     "output_type": "execute_result"
    }
   ],
   "source": [
    "foo = [0,1,2,3]\n",
    "foo[1:2]\n"
   ]
  },
  {
   "cell_type": "code",
   "execution_count": null,
   "metadata": {},
   "outputs": [
    {
     "name": "stdout",
     "output_type": "stream",
     "text": [
      "[-1, 0, 1, 2, 3, 4]\n"
     ]
    }
   ],
   "source": [
    "def pad_sequence(sequence):\n",
    "    # prep the array by inserting a first/last token which satisfies...\n",
    "    return [sequence[0]-1] + sequence + [sequence[-1]+1]\n",
    "\n",
    "print(pad_sequence([0,1,2,3]))\n",
    "          "
   ]
  },
  {
   "cell_type": "code",
   "execution_count": null,
   "metadata": {},
   "outputs": [
    {
     "data": {
      "text/plain": [
       "[False, 1, 2]"
      ]
     },
     "execution_count": 108,
     "metadata": {},
     "output_type": "execute_result"
    }
   ],
   "source": [
    "def strictly_increasing_or_failing_boundary(sequence):\n",
    "    for idx in range(len(sequence) - 1):\n",
    "        if sequence[idx]+1 != sequence[idx+1]:\n",
    "            return [False, idx, idx+1]\n",
    "    return [True, -1, -1]\n",
    "\n",
    "strictly_increasing_or_failing_boundary([10,11,11,12])"
   ]
  },
  {
   "cell_type": "code",
   "execution_count": null,
   "metadata": {},
   "outputs": [],
   "source": []
  },
  {
   "cell_type": "code",
   "execution_count": null,
   "metadata": {},
   "outputs": [
    {
     "name": "stdout",
     "output_type": "stream",
     "text": [
      "input [10, 11, 12, 13, 14]\n",
      "True\n",
      "input [10, 16, 11, 12, 13]\n",
      "True\n",
      "input [10, 11, 11, 12, 13]\n",
      "True\n",
      "input [11, 11, 12, 13, 14]\n",
      "True\n",
      "input [10, 11, 12, 13, 13]\n",
      "True\n",
      "input [10, 1, 2, 3, 4, 5]\n",
      "True\n",
      "input [0, -2, 5, 6]\n",
      "True\n",
      "input [1, 3, 2]\n",
      "True\n"
     ]
    }
   ],
   "source": [
    "def strictly_increasing_sequence(sequence):\n",
    "    # print(f\"input {sequence}\")\n",
    "  \n",
    "    # sequence.sort()\n",
    "\n",
    "    def strictly_increasing_or_failing_boundary(sequence):\n",
    "        for idx in range(len(sequence) - 1):\n",
    "            # print(f\"{sequence[idx]} {sequence[idx+1]} {sequence[idx] >= sequence[idx+1]}\")\n",
    "            if sequence[idx] >= sequence[idx+1]:\n",
    "                return [False, idx, idx+1]\n",
    "        return [True, -1, -1]\n",
    "\n",
    "    def pad_sequence(sequence):\n",
    "        # prep the array by inserting a first/last token which satisfies...\n",
    "        return [sequence[0]-1] + sequence + [sequence[-1]+1]\n",
    "\n",
    "    def sub_sequence_removing(sequence, bad_idx):\n",
    "        return sequence[:bad_idx] + sequence[bad_idx+1:]\n",
    "\n",
    "    sequence1 = pad_sequence(sequence)\n",
    "    chk, idx_a, idx_b = strictly_increasing_or_failing_boundary(sequence1)\n",
    "    idx_a -= 1\n",
    "    idx_b -= 1\n",
    "    # print(f\"idx_a {idx_a} idx_b {idx_b}\")\n",
    "    if chk:\n",
    "        return True\n",
    "\n",
    "    # print(f\"attempting remove {sequence[idx_a]}\")    \n",
    "    sequence2 = pad_sequence(sub_sequence_removing(sequence, idx_a))\n",
    "    chk, _, _ = strictly_increasing_or_failing_boundary(sequence2)\n",
    "    if chk:\n",
    "        return True\n",
    "    \n",
    "    # print(f\"attempting remove {sequence[idx_b]}\")    \n",
    "    sequence3 = pad_sequence(sub_sequence_removing(sequence, idx_b))\n",
    "    chk, _, _ = strictly_increasing_or_failing_boundary(sequence3)\n",
    "    if chk:\n",
    "        return True\n",
    "    \n",
    "    return False\n",
    "\n",
    "\n",
    "print(strictly_increasing_sequence([10,11,12,13,14]))\n",
    "print(strictly_increasing_sequence([10,16,11,12,13]))\n",
    "print(strictly_increasing_sequence([10,11,11,12,13]))\n",
    "print(strictly_increasing_sequence([11,11,12,13,14]))\n",
    "print(strictly_increasing_sequence([10,11,12,13,13]))\n",
    "print(strictly_increasing_sequence([10,1,2,3,4,5]))\n",
    "\n",
    "print(strictly_increasing_sequence([0, -2, 5, 6]))\n",
    "\n",
    "print(strictly_increasing_sequence([1,3,2]))\n",
    "\n"
   ]
  },
  {
   "cell_type": "code",
   "execution_count": null,
   "metadata": {},
   "outputs": [
    {
     "name": "stdout",
     "output_type": "stream",
     "text": [
      "input [[1, 1, 1, 0], [0, 5, 0, 1], [2, 1, 3, 10]]\n",
      "[[ 1  0  2]\n",
      " [ 1  5  1]\n",
      " [ 1  0  3]\n",
      " [ 0  1 10]]\n",
      "9\n"
     ]
    }
   ],
   "source": [
    "def matrix_elements_sum_above_zero_values(matrix):\n",
    "\n",
    "    import numpy as np\n",
    "    print(f\"input {matrix}\")\n",
    "    matrix_np = np.array(matrix).T\n",
    "    # matrix_np.T\n",
    "    print(matrix_np)\n",
    "    # rows = len(matrix)\n",
    "    # cols = len(matrix[0])\n",
    "    # print(f\"rows {rows} cols {cols}\")\n",
    "\n",
    "    sum = 0\n",
    "    for row in matrix_np:\n",
    "        for element in row:\n",
    "            if element == 0:\n",
    "                break\n",
    "            sum += element\n",
    "\n",
    "    return sum\n",
    "\n",
    "matrix = [[1, 1, 1, 0], \n",
    "          [0, 5, 0, 1], \n",
    "          [2, 1, 3, 10]]\n",
    "\n",
    "print(matrix_elements_sum_above_zero_values(matrix))\n",
    "\n"
   ]
  },
  {
   "cell_type": "code",
   "execution_count": null,
   "metadata": {},
   "outputs": [
    {
     "data": {
      "text/plain": [
       "set"
      ]
     },
     "execution_count": 154,
     "metadata": {},
     "output_type": "execute_result"
    }
   ],
   "source": [
    "ks = set()\n",
    "ks.add(\"foo\")\n",
    "type(ks)"
   ]
  },
  {
   "cell_type": "code",
   "execution_count": 12,
   "metadata": {},
   "outputs": [
    {
     "name": "stdout",
     "output_type": "stream",
     "text": [
      "['aba', 'vcd', 'aba']\n"
     ]
    }
   ],
   "source": [
    "def longest_strings(inputArray):\n",
    "\n",
    "    max_len = 0\n",
    "    keeper_list = []\n",
    "    \n",
    "    for element in inputArray:\n",
    "        if len(element) > max_len:\n",
    "            max_len = len(element)\n",
    "            keeper_list = [element]\n",
    "        elif len(element) == max_len:\n",
    "            keeper_list.append(element)\n",
    "\n",
    "    return list(keeper_list)\n",
    "\n",
    "# print(longest_strings([\"aba\", \"aa\", \"ad\", \"vcd\", \"aba\"]))\n",
    "print(longest_strings([\"aba\", \"aa\", \"ad\", \"vcd\", \"aba\"]))"
   ]
  },
  {
   "cell_type": "code",
   "execution_count": 13,
   "metadata": {},
   "outputs": [
    {
     "data": {
      "text/plain": [
       "{'a', 'b', 'c'}"
      ]
     },
     "execution_count": 13,
     "metadata": {},
     "output_type": "execute_result"
    }
   ],
   "source": [
    "set('aabc')"
   ]
  },
  {
   "cell_type": "code",
   "execution_count": 18,
   "metadata": {},
   "outputs": [
    {
     "data": {
      "text/plain": [
       "set"
      ]
     },
     "execution_count": 18,
     "metadata": {},
     "output_type": "execute_result"
    }
   ],
   "source": [
    "type({'aabc'})"
   ]
  },
  {
   "cell_type": "code",
   "execution_count": 29,
   "metadata": {},
   "outputs": [
    {
     "name": "stdout",
     "output_type": "stream",
     "text": [
      "{'a', 'd', 'c', 'b'}\n",
      "{'a': 2, 'd': 0, 'c': 1, 'b': 1}\n",
      "{'a': 0, 'd': 1, 'c': 1, 'b': 2}\n",
      "2\n"
     ]
    }
   ],
   "source": [
    "def common_characters(s1, s2):\n",
    "    set1 = set(s1)\n",
    "    set2 = set(s2)\n",
    "    s1_u_s2 = set1.union(set2)\n",
    "    print(s1_u_s2)\n",
    "\n",
    "    count_s1 = {}\n",
    "    count_s2 = {}\n",
    "    for k in s1_u_s2:\n",
    "        count_s1[k]= s1.count(k)\n",
    "        count_s2[k]= s2.count(k)\n",
    "\n",
    "    print(count_s1)\n",
    "    print(count_s2)\n",
    "\n",
    "    total = 0\n",
    "    for k in s1_u_s2:\n",
    "        if count_s1[k] <= count_s2[k]:\n",
    "            total += count_s1[k]\n",
    "        else:\n",
    "            total += count_s2[k]\n",
    "    return total\n",
    "\n",
    "print(common_characters('aabc', 'bbcd'))\n"
   ]
  },
  {
   "cell_type": "code",
   "execution_count": 33,
   "metadata": {},
   "outputs": [
    {
     "name": "stdout",
     "output_type": "stream",
     "text": [
      "12\n",
      "34\n"
     ]
    }
   ],
   "source": [
    "foo = str(1234)\n",
    "hlen = len(foo)//2\n",
    "\n",
    "print(foo[:hlen])\n",
    "print(foo[hlen:])"
   ]
  },
  {
   "cell_type": "code",
   "execution_count": 36,
   "metadata": {},
   "outputs": [
    {
     "data": {
      "text/plain": [
       "True"
      ]
     },
     "execution_count": 36,
     "metadata": {},
     "output_type": "execute_result"
    }
   ],
   "source": [
    "def is_lucky(n):\n",
    "    str_n = str(n)\n",
    "    hlen = len(foo)//2\n",
    "    str_left = str_n[:hlen]\n",
    "    str_right = str_n[hlen:]\n",
    "\n",
    "    sum_left = 0\n",
    "    sum_right = 0\n",
    "    for idx in range(hlen):\n",
    "        sum_left += int(str_left[idx])\n",
    "        sum_right += int(str_right[idx])\n",
    "    \n",
    "    return sum_left == sum_right\n",
    "\n",
    "is_lucky(1230)"
   ]
  },
  {
   "cell_type": "code",
   "execution_count": null,
   "metadata": {},
   "outputs": [],
   "source": []
  }
 ],
 "metadata": {
  "kernelspec": {
   "display_name": "venv",
   "language": "python",
   "name": "python3"
  },
  "language_info": {
   "codemirror_mode": {
    "name": "ipython",
    "version": 3
   },
   "file_extension": ".py",
   "mimetype": "text/x-python",
   "name": "python",
   "nbconvert_exporter": "python",
   "pygments_lexer": "ipython3",
   "version": "3.9.12"
  },
  "orig_nbformat": 4
 },
 "nbformat": 4,
 "nbformat_minor": 2
}
