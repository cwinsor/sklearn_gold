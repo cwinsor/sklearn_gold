{
 "cells": [
  {
   "cell_type": "markdown",
   "metadata": {},
   "source": [
    "# Binary Tree and Binary Search Tree (BST)"
   ]
  },
  {
   "cell_type": "markdown",
   "metadata": {},
   "source": [
    "### Binary Tree\n",
    "\n",
    "https://www.tutorialspoint.com/python_data_structure/python_binary_tree.htm"
   ]
  },
  {
   "cell_type": "code",
   "execution_count": null,
   "metadata": {},
   "outputs": [],
   "source": [
    "class BtNode:\n",
    "    def __init__(self, data):\n",
    "        self.left = None\n",
    "        self.right = None\n",
    "        self.data = data\n",
    "\n",
    "    def insert(self, data):\n",
    "        if data < self.data:\n",
    "            if self.left is None:\n",
    "                    self.left = BtNode(data)\n",
    "            else:\n",
    "                self.left.insert(data)\n",
    "        elif data > self.data:\n",
    "            if self.right is None:\n",
    "                self.right = BtNode(data)\n",
    "            else:\n",
    "                self.right.insert(data)\n",
    "\n",
    "    def print_tree(self):\n",
    "        if self.left:\n",
    "            self.left.print_tree()\n",
    "        print( self.data)\n",
    "        if self.right:\n",
    "            self.right.print_tree()\n",
    "\n",
    "    def preorder_traversal(self):\n",
    "        res = []\n",
    "        res.append(self.data)\n",
    "        if self.left:\n",
    "            res = res + self.left.preorder_traversal()\n",
    "        if self.right:\n",
    "            res = res + self.right.preorder_traversal()\n",
    "        return res\n",
    "\n",
    "    def inorder_traversal(self):\n",
    "        res = []\n",
    "        if self.left:\n",
    "            res = self.left.inorder_traversal()\n",
    "        res.append(root.data)\n",
    "        if self.right:\n",
    "            res = res + self.right.inorder_traversal()\n",
    "        return res\n",
    "\n",
    "    def postorder_traversal(self):\n",
    "        res = []\n",
    "        if self.left:\n",
    "            res = res + self.left.postorder_traversal()\n",
    "        if self.right:\n",
    "            res = res + self.right.postorder_traversal()\n",
    "        res.append(self.data)\n",
    "        return res"
   ]
  },
  {
   "cell_type": "code",
   "execution_count": 14,
   "metadata": {},
   "outputs": [
    {
     "name": "stdout",
     "output_type": "stream",
     "text": [
      "3\n",
      "5\n",
      "6\n",
      "12\n",
      "13\n",
      "14\n",
      "17\n"
     ]
    }
   ],
   "source": [
    "root = BtNode(12)\n",
    "root.insert(14)\n",
    "root.insert(6)\n",
    "root.insert(5)\n",
    "root.insert(3)\n",
    "root.insert(13)\n",
    "root.insert(13) # will be ignored in BTree\n",
    "root.insert(17)\n",
    "\n",
    "root.print_tree()"
   ]
  },
  {
   "cell_type": "code",
   "execution_count": 16,
   "metadata": {},
   "outputs": [
    {
     "data": {
      "text/plain": [
       "[12, 12, 12, 12, 12, 12, 12]"
      ]
     },
     "execution_count": 16,
     "metadata": {},
     "output_type": "execute_result"
    }
   ],
   "source": [
    "root.inorder_traversal()"
   ]
  },
  {
   "cell_type": "code",
   "execution_count": 18,
   "metadata": {},
   "outputs": [
    {
     "data": {
      "text/plain": [
       "[12, 6, 5, 3, 14, 13, 17]"
      ]
     },
     "execution_count": 18,
     "metadata": {},
     "output_type": "execute_result"
    }
   ],
   "source": [
    "root.preorder_traversal()"
   ]
  },
  {
   "cell_type": "code",
   "execution_count": 19,
   "metadata": {},
   "outputs": [
    {
     "data": {
      "text/plain": [
       "[3, 5, 6, 13, 17, 14, 12]"
      ]
     },
     "execution_count": 19,
     "metadata": {},
     "output_type": "execute_result"
    }
   ],
   "source": [
    "root.postorder_traversal()"
   ]
  },
  {
   "cell_type": "markdown",
   "metadata": {},
   "source": [
    "### Binary Search Tree (BST)\n",
    "https://www.tutorialspoint.com/python_data_structure/python_binary_search_tree.htm#\n",
    "\n",
    "subtle differences from \"binary tree\":\n",
    "* nodes ordered as <= (formerly <) meaning the tree can have duplicate-valued nodes\n",
    "* allows searching based on value, returning list of nodes or [] if no matches"
   ]
  },
  {
   "cell_type": "code",
   "execution_count": 20,
   "metadata": {},
   "outputs": [],
   "source": [
    "class BstNode:\n",
    "    data = None\n",
    "\n",
    "    def __init__(self, data):\n",
    "        self.left = None\n",
    "        self.right = None\n",
    "        self.data = data\n",
    "\n",
    "    def insert(self, data):\n",
    "        if data <= self.data:\n",
    "            if self.left is None:\n",
    "                    self.left = BstNode(data)\n",
    "            else:\n",
    "                self.left.insert(data)\n",
    "        else:\n",
    "            if self.right is None:\n",
    "                self.right = BstNode(data)\n",
    "            else:\n",
    "                self.right.insert(data)\n",
    "\n",
    "    def print_tree(self):\n",
    "        y = self.inorder_traversal()\n",
    "        print(y)\n",
    "\n",
    "    def inorder_traversal(self):\n",
    "        res = []\n",
    "        if self.left:\n",
    "            res = self.left.inorder_traversal()\n",
    "        res.append(self.data)\n",
    "        if self.right:\n",
    "            res = res + self.right.inorder_traversal()\n",
    "        return res\n",
    "    \n",
    "    def find_val(self, target):\n",
    "        res = []\n",
    "        if self.left:\n",
    "            res = self.left.find_val(target)\n",
    "        if self.data == target:\n",
    "            res.append(self)\n",
    "        if self.right:\n",
    "            res = res + self.right.find_val(target)\n",
    "        return res\n"
   ]
  },
  {
   "cell_type": "code",
   "execution_count": 21,
   "metadata": {},
   "outputs": [
    {
     "data": {
      "text/plain": [
       "[3, 5, 6, 12, 13, 13, 14, 17]"
      ]
     },
     "execution_count": 21,
     "metadata": {},
     "output_type": "execute_result"
    }
   ],
   "source": [
    "root = BstNode(12)\n",
    "root.insert(14)\n",
    "root.insert(6)\n",
    "root.insert(5)\n",
    "root.insert(3)\n",
    "root.insert(13)\n",
    "root.insert(13) # NOT ignored in BSTree\n",
    "root.insert(17)\n",
    "\n",
    "root.inorder_traversal()"
   ]
  },
  {
   "cell_type": "code",
   "execution_count": null,
   "metadata": {},
   "outputs": [],
   "source": []
  },
  {
   "cell_type": "code",
   "execution_count": 22,
   "metadata": {},
   "outputs": [
    {
     "name": "stdout",
     "output_type": "stream",
     "text": [
      "13\n",
      "13\n"
     ]
    }
   ],
   "source": [
    "matches = root.find_val(13)\n",
    "for m in matches:\n",
    "    print(m.data)"
   ]
  },
  {
   "cell_type": "code",
   "execution_count": 23,
   "metadata": {},
   "outputs": [
    {
     "data": {
      "text/plain": [
       "[3, 5, 6]"
      ]
     },
     "execution_count": 23,
     "metadata": {},
     "output_type": "execute_result"
    }
   ],
   "source": [
    "# find node with value \"6\", then traverse from that point\n",
    "matches = root.find_val(6)\n",
    "matches[0].inorder_traversal()"
   ]
  },
  {
   "cell_type": "code",
   "execution_count": null,
   "metadata": {},
   "outputs": [],
   "source": []
  }
 ],
 "metadata": {
  "kernelspec": {
   "display_name": "venv",
   "language": "python",
   "name": "python3"
  },
  "language_info": {
   "codemirror_mode": {
    "name": "ipython",
    "version": 3
   },
   "file_extension": ".py",
   "mimetype": "text/x-python",
   "name": "python",
   "nbconvert_exporter": "python",
   "pygments_lexer": "ipython3",
   "version": "3.9.12"
  },
  "orig_nbformat": 4
 },
 "nbformat": 4,
 "nbformat_minor": 2
}
