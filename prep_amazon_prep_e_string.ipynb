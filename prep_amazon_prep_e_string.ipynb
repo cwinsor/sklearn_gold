{
 "cells": [
  {
   "cell_type": "markdown",
   "metadata": {},
   "source": [
    "# Coding exercises\n",
    "\n",
    "## String\n",
    "\n",
    "https://www.geeksforgeeks.org/python-exercises-practice-questions-and-solutions/"
   ]
  },
  {
   "cell_type": "code",
   "execution_count": 6,
   "metadata": {},
   "outputs": [
    {
     "data": {
      "text/plain": [
       "True"
      ]
     },
     "execution_count": 6,
     "metadata": {},
     "output_type": "execute_result"
    }
   ],
   "source": [
    "# string compare\n",
    "\"abc\" == \"abc\""
   ]
  },
  {
   "cell_type": "code",
   "execution_count": 2,
   "metadata": {},
   "outputs": [
    {
     "name": "stdout",
     "output_type": "stream",
     "text": [
      "True\n",
      "True\n"
     ]
    }
   ],
   "source": [
    "# check if string is symmetrical or palendrome\n",
    "\n",
    "def palendrome(str):\n",
    "    mid = len(str)//2\n",
    "    a = str[0: mid]\n",
    "    b = str[len(str): mid-1: -1]\n",
    "    return a == b\n",
    "\n",
    "print(palendrome(\"abccba\"))\n",
    "\n",
    "def symmetric(str):\n",
    "    mid = len(str)//2\n",
    "    a = str[0: mid]\n",
    "    b = str[mid: len(str)]\n",
    "    return a == b\n",
    "\n",
    "print(symmetric(\"abcabc\"))"
   ]
  },
  {
   "cell_type": "code",
   "execution_count": 3,
   "metadata": {},
   "outputs": [
    {
     "data": {
      "text/plain": [
       "'cba'"
      ]
     },
     "execution_count": 3,
     "metadata": {},
     "output_type": "execute_result"
    }
   ],
   "source": [
    "def my_reverse(str):\n",
    "    return str[::-1]\n",
    "\n",
    "my_reverse('abc')"
   ]
  },
  {
   "cell_type": "code",
   "execution_count": 4,
   "metadata": {},
   "outputs": [
    {
     "data": {
      "text/plain": [
       "'siht si a gnirts'"
      ]
     },
     "execution_count": 4,
     "metadata": {},
     "output_type": "execute_result"
    }
   ],
   "source": [
    "# reverse words in a given string\n",
    "\n",
    "def my_reverse(str):\n",
    "    return str[::-1]\n",
    "\n",
    "str = \"this is a string\"\n",
    "\n",
    "# split, reverse, join\n",
    "strlist = str.split(' ')\n",
    "reversed_list = [my_reverse(word) for word in strlist]\n",
    "\" \".join(reversed_list)"
   ]
  },
  {
   "cell_type": "code",
   "execution_count": 5,
   "metadata": {},
   "outputs": [
    {
     "name": "stdout",
     "output_type": "stream",
     "text": [
      "0134\n",
      "1234\n",
      "0123\n"
     ]
    }
   ],
   "source": [
    "# remove the ith character\n",
    "def remove_ch_n(str, n):\n",
    "    a = str[0: n]\n",
    "    b = str[n+1:]\n",
    "    return a + b\n",
    "\n",
    "print(remove_ch_n(\"01234\", 2))\n",
    "print(remove_ch_n(\"01234\", 0))\n",
    "print(remove_ch_n(\"01234\", 4))"
   ]
  },
  {
   "cell_type": "code",
   "execution_count": 35,
   "metadata": {},
   "outputs": [
    {
     "data": {
      "text/plain": [
       "['this', 'is', 'string']"
      ]
     },
     "execution_count": 35,
     "metadata": {},
     "output_type": "execute_result"
    }
   ],
   "source": [
    "# print even length words in a string\n",
    "\n",
    "def is_even_length(word):\n",
    "    return len(word) % 2 == 0\n",
    "\n",
    "str = \"this is a fun string\"\n",
    "wordlist = str.split(\" \")\n",
    "[word for word in wordlist if is_even_length(word)]"
   ]
  },
  {
   "cell_type": "code",
   "execution_count": 7,
   "metadata": {},
   "outputs": [
    {
     "data": {
      "text/plain": [
       "['88 99 200', '88 99 300', '99 32 100', '12 12 15']"
      ]
     },
     "execution_count": 7,
     "metadata": {},
     "output_type": "execute_result"
    }
   ],
   "source": [
    "logs = [\"88 99 200\", \"88 99 300\", \"99 32 100\", \"12 12 15\"]\n",
    "logs"
   ]
  },
  {
   "cell_type": "code",
   "execution_count": 11,
   "metadata": {},
   "outputs": [
    {
     "name": "stdout",
     "output_type": "stream",
     "text": [
      "88\n",
      "88\n",
      "99\n",
      "12\n"
     ]
    }
   ],
   "source": [
    "def processLogs(logs, threshold):\n",
    "    the_record = {}\n",
    "    for transaction in logs:\n",
    "        [a, b, amount] = transaction.split()\n",
    "        if a not in the_record.keys():\n",
    "            the_record[a] = 0\n",
    "        if b not in the_record.keys():\n",
    "            the_record[b] = 0\n",
    "\n",
    "        if a==b:\n",
    "            the_record[a] += 1\n",
    "        else:\n",
    "            the_record[b] += 1\n",
    "\n",
    "    the_record\n",
    "\n",
    "\n",
    "\n"
   ]
  },
  {
   "cell_type": "code",
   "execution_count": 12,
   "metadata": {},
   "outputs": [
    {
     "data": {
      "text/plain": [
       "dict"
      ]
     },
     "execution_count": 12,
     "metadata": {},
     "output_type": "execute_result"
    }
   ],
   "source": [
    "the_record = {}\n",
    "type(the_record)"
   ]
  },
  {
   "cell_type": "code",
   "execution_count": null,
   "metadata": {},
   "outputs": [],
   "source": []
  }
 ],
 "metadata": {
  "kernelspec": {
   "display_name": "venv",
   "language": "python",
   "name": "python3"
  },
  "language_info": {
   "codemirror_mode": {
    "name": "ipython",
    "version": 3
   },
   "file_extension": ".py",
   "mimetype": "text/x-python",
   "name": "python",
   "nbconvert_exporter": "python",
   "pygments_lexer": "ipython3",
   "version": "3.9.12"
  },
  "orig_nbformat": 4
 },
 "nbformat": 4,
 "nbformat_minor": 2
}
