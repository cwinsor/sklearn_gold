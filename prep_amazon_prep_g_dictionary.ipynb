{
 "cells": [
  {
   "cell_type": "markdown",
   "metadata": {},
   "source": [
    "# Coding exercises\n",
    "\n",
    "## Dictionary\n",
    "\n",
    "https://www.geeksforgeeks.org/python-exercises-practice-questions-and-solutions/"
   ]
  },
  {
   "cell_type": "code",
   "execution_count": 17,
   "metadata": {},
   "outputs": [
    {
     "name": "stdout",
     "output_type": "stream",
     "text": [
      "input\n",
      "{'y': 'baker', 'w': 'charlie', 'z': 'apple', 'x': 'denver'}\n",
      "output\n",
      "{'w': 'charlie', 'x': 'denver', 'y': 'baker', 'z': 'apple'}\n"
     ]
    }
   ],
   "source": [
    "# sort dictionary by keys\n",
    "\n",
    "# a) sort keys, b) create new dict using dict comprehension\n",
    "\n",
    "dict = {\"y\": \"baker\",\n",
    "        \"w\": \"charlie\",\n",
    "        \"z\": \"apple\",\n",
    "        \"x\": \"denver\",}\n",
    "sk = sorted(dict.keys())\n",
    "new_dict = {k:dict[k] for k in sk}\n",
    "print(\"input\")\n",
    "print(dict)\n",
    "print(\"output\")\n",
    "print(new_dict)\n"
   ]
  },
  {
   "cell_type": "code",
   "execution_count": 16,
   "metadata": {},
   "outputs": [
    {
     "name": "stdout",
     "output_type": "stream",
     "text": [
      "input\n",
      "{'y': 'baker', 'w': 'charlie', 'z': 'apple', 'x': 'denver'}\n",
      "output\n",
      "{'z': 'apple', 'y': 'baker', 'w': 'charlie', 'x': 'denver'}\n"
     ]
    }
   ],
   "source": [
    "# sort dictionary by VALUES\n",
    "\n",
    "# a) sort keys by value using sorted(key)\n",
    "# b) create new dict using dict comprehension\n",
    "\n",
    "def by_value(xx):\n",
    "    return dict[xx]\n",
    "\n",
    "dict = {\"y\": \"baker\",\n",
    "        \"w\": \"charlie\",\n",
    "        \"z\": \"apple\",\n",
    "        \"x\": \"denver\",}\n",
    "\n",
    "sk = sorted(dict, key=by_value)\n",
    "new_dict = {k:dict[k] for k in sk}\n",
    "\n",
    "print(\"input\")\n",
    "print(dict)\n",
    "print(\"output\")\n",
    "print(new_dict)\n"
   ]
  },
  {
   "cell_type": "code",
   "execution_count": 19,
   "metadata": {},
   "outputs": [
    {
     "data": {
      "text/plain": [
       "'boo'"
      ]
     },
     "execution_count": 19,
     "metadata": {},
     "output_type": "execute_result"
    }
   ],
   "source": [
    "# handle missing keys (the case when user attempts to access non-existant key)\n",
    "# using FUNCTION\n",
    "\n",
    "def friendly_get(key, dict):\n",
    "    if key in dict.keys():\n",
    "        return dict[key]\n",
    "    return \"boo\"\n",
    "\n",
    "dict = {\"y\": \"baker\",\n",
    "        \"w\": \"charlie\",\n",
    "        \"z\": \"apple\",\n",
    "        \"x\": \"denver\",}\n",
    "\n",
    "friendly_get(\"la\", dict)"
   ]
  },
  {
   "cell_type": "code",
   "execution_count": 23,
   "metadata": {},
   "outputs": [
    {
     "name": "stdout",
     "output_type": "stream",
     "text": [
      "bummer!\n",
      "{'y': 'baker', 'w': 'charlie', 'z': 'apple', 'x': 'denver'}\n"
     ]
    }
   ],
   "source": [
    "# handle missing keys (the case when user attempts to access non-existant key)\n",
    "# using .get(val, \"default\")\n",
    "\n",
    "dict = {\"y\": \"baker\",\n",
    "        \"w\": \"charlie\",\n",
    "        \"z\": \"apple\",\n",
    "        \"x\": \"denver\",}\n",
    "\n",
    "print(dict.get(\"p\", \"bummer!\"))\n",
    "print(dict)"
   ]
  },
  {
   "cell_type": "code",
   "execution_count": 24,
   "metadata": {},
   "outputs": [
    {
     "name": "stdout",
     "output_type": "stream",
     "text": [
      "bummer!\n",
      "{'y': 'baker', 'w': 'charlie', 'z': 'apple', 'x': 'denver', 'p': 'bummer!'}\n"
     ]
    }
   ],
   "source": [
    "# handle missing keys (the case when user attempts to access non-existant key)\n",
    "# using .setdefault(key, value)\n",
    "\n",
    "dict = {\"y\": \"baker\",\n",
    "        \"w\": \"charlie\",\n",
    "        \"z\": \"apple\",\n",
    "        \"x\": \"denver\",}\n",
    "\n",
    "print(dict.setdefault(\"p\", \"bummer!\"))\n",
    "print(dict)"
   ]
  },
  {
   "cell_type": "code",
   "execution_count": 26,
   "metadata": {},
   "outputs": [
    {
     "name": "stdout",
     "output_type": "stream",
     "text": [
      "yikes - key not found!\n"
     ]
    }
   ],
   "source": [
    "# handle missing keys (the case when user attempts to access non-existant key)\n",
    "# using try/except \n",
    "\n",
    "dict = {\"y\": \"baker\",\n",
    "        \"w\": \"charlie\",\n",
    "        \"z\": \"apple\",\n",
    "        \"x\": \"denver\",}\n",
    "\n",
    "try:\n",
    "    dict[\"p\"]\n",
    "except KeyError:\n",
    "    print(\"yikes - key not found!\")\n"
   ]
  },
  {
   "cell_type": "code",
   "execution_count": 29,
   "metadata": {},
   "outputs": [
    {
     "name": "stdout",
     "output_type": "stream",
     "text": [
      "{(10, 20, 30): 11, (40, 50, 60): 22, 65: 33, (70, 80, 90): 44}\n",
      "11\n",
      "44\n"
     ]
    }
   ],
   "source": [
    "# dictionary having multi-key\n",
    "dict = {}\n",
    "dict[10, 20, 30] = 11\n",
    "dict[40, 50, 60] = 22\n",
    "dict[65] = 33\n",
    "x, y, z = 70, 80, 90\n",
    "dict[x, y, z] = 44\n",
    "\n",
    "print(dict)\n",
    "print(dict[10, 20, 30])\n",
    "print(dict[x, y, z])"
   ]
  },
  {
   "cell_type": "code",
   "execution_count": 35,
   "metadata": {},
   "outputs": [
    {
     "data": {
      "text/plain": [
       "6"
      ]
     },
     "execution_count": 35,
     "metadata": {},
     "output_type": "execute_result"
    }
   ],
   "source": [
    "# sum of dict values\n",
    "dict = {\"a\": 1, \"b\": 2, \"c\":3}\n",
    "sum(dict.values())\n"
   ]
  },
  {
   "cell_type": "code",
   "execution_count": 37,
   "metadata": {},
   "outputs": [
    {
     "data": {
      "text/plain": [
       "3"
      ]
     },
     "execution_count": 37,
     "metadata": {},
     "output_type": "execute_result"
    }
   ],
   "source": [
    "# size of dict\n",
    "dict = {\"a\": 1, \"b\": 2, \"c\":3}\n",
    "len(dict.keys())"
   ]
  },
  {
   "cell_type": "code",
   "execution_count": null,
   "metadata": {},
   "outputs": [],
   "source": []
  }
 ],
 "metadata": {
  "kernelspec": {
   "display_name": "venv",
   "language": "python",
   "name": "python3"
  },
  "language_info": {
   "codemirror_mode": {
    "name": "ipython",
    "version": 3
   },
   "file_extension": ".py",
   "mimetype": "text/x-python",
   "name": "python",
   "nbconvert_exporter": "python",
   "pygments_lexer": "ipython3",
   "version": "3.9.12"
  },
  "orig_nbformat": 4
 },
 "nbformat": 4,
 "nbformat_minor": 2
}
