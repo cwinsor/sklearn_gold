{
 "cells": [
  {
   "cell_type": "markdown",
   "metadata": {},
   "source": [
    "# Coding exercises\n",
    "\n",
    "## Tuple\n",
    "\n",
    "https://www.geeksforgeeks.org/python-exercises-practice-questions-and-solutions/"
   ]
  },
  {
   "cell_type": "code",
   "execution_count": 2,
   "metadata": {},
   "outputs": [
    {
     "name": "stdout",
     "output_type": "stream",
     "text": [
      "3\n",
      "3\n"
     ]
    }
   ],
   "source": [
    "# size of tuple\n",
    "\n",
    "tup = \"a\", \"b\", \"c\"\n",
    "print(len(tup))\n",
    "\n",
    "tup = (\"d\", \"e\", \"f\")\n",
    "print(len(tup))\n"
   ]
  },
  {
   "cell_type": "code",
   "execution_count": 5,
   "metadata": {},
   "outputs": [
    {
     "name": "stdout",
     "output_type": "stream",
     "text": [
      "The original tuple is : (5, 20, 3, 7, 6, 8)\n",
      "The extracted values : (3, 5, 8, 20)\n"
     ]
    }
   ],
   "source": [
    "import heapq\n",
    "test_tup = (5, 20, 3, 7, 6, 8)\n",
    "# printing original tuple\n",
    "print(\"The original tuple is : \" + str(test_tup))\n",
    "K = 2\n",
    "smallest = heapq.nsmallest(K, test_tup)\n",
    "largest = heapq.nlargest(K, test_tup)\n",
    "result = tuple(sorted(smallest + largest))\n",
    "print(\"The extracted values : \" +str(result))\n",
    "#This code is contributed by Jyothi pinjala"
   ]
  },
  {
   "cell_type": "code",
   "execution_count": 7,
   "metadata": {},
   "outputs": [
    {
     "name": "stdout",
     "output_type": "stream",
     "text": [
      "(5, 7, 2, 4, 3)\n"
     ]
    },
    {
     "data": {
      "text/plain": [
       "[2, 3, 4, 5]"
      ]
     },
     "execution_count": 7,
     "metadata": {},
     "output_type": "execute_result"
    }
   ],
   "source": [
    "# maximum / minimum of tuple\n",
    "# using a heap\n",
    "import heapq\n",
    "\n",
    "tup = 5, 7, 2, 4, 3\n",
    "# heapq.heapify(tup) # don't need to heapify - a tuple is already ordered\n",
    "heapq.nsmallest(4, tup)\n"
   ]
  },
  {
   "cell_type": "code",
   "execution_count": 18,
   "metadata": {},
   "outputs": [
    {
     "name": "stdout",
     "output_type": "stream",
     "text": [
      "[2, 3, 4, 5, 7]\n"
     ]
    },
    {
     "data": {
      "text/plain": [
       "[2, 3, 5, 7]"
      ]
     },
     "execution_count": 18,
     "metadata": {},
     "output_type": "execute_result"
    }
   ],
   "source": [
    "# max / min of tuple using sorted() and indexing\n",
    "tup = 5, 7, 2, 4, 3\n",
    "sorted_list = sorted(tup)\n",
    "print(sorted_list)\n",
    "sorted_list[0:2] + sorted_list[-2:]"
   ]
  }
 ],
 "metadata": {
  "kernelspec": {
   "display_name": "venv",
   "language": "python",
   "name": "python3"
  },
  "language_info": {
   "codemirror_mode": {
    "name": "ipython",
    "version": 3
   },
   "file_extension": ".py",
   "mimetype": "text/x-python",
   "name": "python",
   "nbconvert_exporter": "python",
   "pygments_lexer": "ipython3",
   "version": "3.9.12"
  },
  "orig_nbformat": 4
 },
 "nbformat": 4,
 "nbformat_minor": 2
}
