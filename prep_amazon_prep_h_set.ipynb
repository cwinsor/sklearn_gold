{
 "cells": [
  {
   "cell_type": "markdown",
   "metadata": {},
   "source": [
    "# Coding exercises\n",
    "\n",
    "## Set\n",
    "\n",
    "https://www.geeksforgeeks.org/python-exercises-practice-questions-and-solutions/"
   ]
  },
  {
   "cell_type": "code",
   "execution_count": 1,
   "metadata": {},
   "outputs": [
    {
     "name": "stdout",
     "output_type": "stream",
     "text": [
      "<class 'set'>\n",
      "3\n"
     ]
    }
   ],
   "source": [
    "s1 = {1, 2, 3}\n",
    "print(type(s1))\n",
    "print(len(s1))"
   ]
  },
  {
   "cell_type": "code",
   "execution_count": 3,
   "metadata": {},
   "outputs": [
    {
     "name": "stdout",
     "output_type": "stream",
     "text": [
      "<class 'set'>\n",
      "0\n"
     ]
    }
   ],
   "source": [
    "ss = set()\n",
    "print(type(ss))\n",
    "print(len(ss))"
   ]
  },
  {
   "cell_type": "code",
   "execution_count": 30,
   "metadata": {},
   "outputs": [
    {
     "name": "stdout",
     "output_type": "stream",
     "text": [
      "s1: {1, 3, 4, 7, 8}\n",
      "s2: {0, 9, 2, 7}\n"
     ]
    }
   ],
   "source": []
  },
  {
   "cell_type": "code",
   "execution_count": 32,
   "metadata": {},
   "outputs": [
    {
     "name": "stdout",
     "output_type": "stream",
     "text": [
      "s1: {8, 9, 5, 1}\n",
      "s2: {0, 1, 3, 4, 6}\n",
      "\n",
      "union {0, 1, 3, 4, 5, 6, 8, 9}\n",
      "intersection {1}\n",
      "3 in s1 False\n",
      "3 not in s1 True\n",
      "s1.isdisjoint(s2) False\n",
      "s1.issubset(s2) False\n",
      "s1.issuperset(s2) False\n",
      "s1.difference(s2) {8, 9, 5}\n",
      "s2.difference(s1) {0, 3, 4, 6}\n",
      "s1.symmetric_difference(s2) {0, 3, 4, 5, 6, 8, 9}\n",
      "\n"
     ]
    }
   ],
   "source": [
    "import numpy as np\n",
    "s1 = set(np.random.randint(0, 10, 5))\n",
    "s2 = set(np.random.randint(0, 10, 5))\n",
    "print(f\"s1: {s1}\")\n",
    "print(f\"s2: {s2}\")\n",
    "print()\n",
    "print(f\"union {s1.union(s2)}\")\n",
    "print(f\"intersection {s1.intersection(s2)}\")\n",
    "print(f\"3 in s1 {3 in s1}\")\n",
    "print(f\"3 not in s1 {3 not in s1}\")\n",
    "print(f\"s1.isdisjoint(s2) {s1.isdisjoint(s2)}\")\n",
    "print(f\"s1.issubset(s2) {s1.issubset(s2)}\")\n",
    "print(f\"s1.issuperset(s2) {s1.issuperset(s2)}\")\n",
    "print(f\"s1.difference(s2) {s1.difference(s2)}\")\n",
    "print(f\"s2.difference(s1) {s2.difference(s1)}\")\n",
    "print(f\"s1.symmetric_difference(s2) {s1.symmetric_difference(s2)}\")\n",
    "print()"
   ]
  },
  {
   "cell_type": "code",
   "execution_count": 39,
   "metadata": {},
   "outputs": [
    {
     "name": "stdout",
     "output_type": "stream",
     "text": [
      "{9, 2, 3, 7}\n",
      "{2, 3, 4, 7, 9}\n",
      "{3, 4, 7, 9}\n",
      "3\n",
      "{4, 7, 9}\n",
      "set()\n"
     ]
    }
   ],
   "source": [
    "s1 = {2, 9, 7, 3}\n",
    "print(s1)\n",
    "s1.add(4)\n",
    "print(s1)\n",
    "s1.remove(2) # will throw exception if it doesn't exist\n",
    "s1.discard(2) # does not throw exception\n",
    "print(s1)\n",
    "print(s1.pop()) # remove and return an arbitrary element\n",
    "print(s1)\n",
    "s1.clear()\n",
    "print(s1)"
   ]
  },
  {
   "cell_type": "code",
   "execution_count": 45,
   "metadata": {},
   "outputs": [
    {
     "data": {
      "text/plain": [
       "9"
      ]
     },
     "execution_count": 45,
     "metadata": {},
     "output_type": "execute_result"
    }
   ],
   "source": [
    "s1 = {2, 9, 7, 3}\n",
    "max(s1)"
   ]
  },
  {
   "cell_type": "code",
   "execution_count": null,
   "metadata": {},
   "outputs": [],
   "source": []
  }
 ],
 "metadata": {
  "kernelspec": {
   "display_name": "venv",
   "language": "python",
   "name": "python3"
  },
  "language_info": {
   "codemirror_mode": {
    "name": "ipython",
    "version": 3
   },
   "file_extension": ".py",
   "mimetype": "text/x-python",
   "name": "python",
   "nbconvert_exporter": "python",
   "pygments_lexer": "ipython3",
   "version": "3.9.12"
  },
  "orig_nbformat": 4
 },
 "nbformat": 4,
 "nbformat_minor": 2
}
