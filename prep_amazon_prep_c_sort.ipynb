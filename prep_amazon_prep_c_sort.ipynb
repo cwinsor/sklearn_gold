{
 "cells": [
  {
   "cell_type": "markdown",
   "metadata": {},
   "source": [
    "# sort\n",
    "\n",
    "https://www.tutorialspoint.com/python_data_structure/python_sorting_algorithms.htm\n",
    "\n",
    "* Bubble Sort - compare and swap\n",
    "* Merge Sort - divide list\n",
    "* Insertion Sort\n",
    "* Shell Sort\n",
    "* Selection Sort\n"
   ]
  },
  {
   "cell_type": "code",
   "execution_count": 3,
   "metadata": {},
   "outputs": [],
   "source": [
    "import numpy as np"
   ]
  },
  {
   "cell_type": "code",
   "execution_count": 10,
   "metadata": {},
   "outputs": [
    {
     "data": {
      "text/plain": [
       "array([8, 5, 4, 9, 9, 5, 2, 8, 4, 7, 1, 3, 8, 4, 9, 2, 9, 6, 4, 7])"
      ]
     },
     "execution_count": 10,
     "metadata": {},
     "output_type": "execute_result"
    }
   ],
   "source": [
    "# bubble - compare and swap\n",
    "np.random.randint(0, 10, 20)"
   ]
  }
 ],
 "metadata": {
  "kernelspec": {
   "display_name": "venv",
   "language": "python",
   "name": "python3"
  },
  "language_info": {
   "codemirror_mode": {
    "name": "ipython",
    "version": 3
   },
   "file_extension": ".py",
   "mimetype": "text/x-python",
   "name": "python",
   "nbconvert_exporter": "python",
   "pygments_lexer": "ipython3",
   "version": "3.9.12"
  },
  "orig_nbformat": 4
 },
 "nbformat": 4,
 "nbformat_minor": 2
}
