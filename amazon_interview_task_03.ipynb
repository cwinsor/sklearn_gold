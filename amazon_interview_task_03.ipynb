{
 "cells": [
  {
   "cell_type": "markdown",
   "metadata": {},
   "source": [
    "# Amazon Interview Task #3\n",
    "\n",
    "search for substrings len K that when substituted result in a string less than\n",
    "\n"
   ]
  },
  {
   "cell_type": "code",
   "execution_count": 14,
   "metadata": {},
   "outputs": [
    {
     "ename": "TypeError",
     "evalue": "'str' object does not support item assignment",
     "output_type": "error",
     "traceback": [
      "\u001b[1;31m---------------------------------------------------------------------------\u001b[0m",
      "\u001b[1;31mTypeError\u001b[0m                                 Traceback (most recent call last)",
      "Cell \u001b[1;32mIn[14], line 5\u001b[0m\n\u001b[0;32m      2\u001b[0m s2 \u001b[39m=\u001b[39m \u001b[39m\"\u001b[39m\u001b[39mdef\u001b[39m\u001b[39m\"\u001b[39m\n\u001b[0;32m      3\u001b[0m s1 \u001b[39m<\u001b[39m s2\n\u001b[1;32m----> 5\u001b[0m s1[\u001b[39m0\u001b[39;49m:\u001b[39m1\u001b[39;49m] \u001b[39m=\u001b[39m \u001b[39m\"\u001b[39m\u001b[39mfo\u001b[39m\u001b[39m\"\u001b[39m\n",
      "\u001b[1;31mTypeError\u001b[0m: 'str' object does not support item assignment"
     ]
    }
   ],
   "source": [
    "s1 = \"abc\"\n",
    "s2 = \"def\"\n",
    "s1 < s2\n",
    "\n",
    "s1[0:1] = \"fo\"\n"
   ]
  },
  {
   "cell_type": "code",
   "execution_count": 4,
   "metadata": {},
   "outputs": [
    {
     "name": "stdout",
     "output_type": "stream",
     "text": [
      "0\n",
      "1\n",
      "2\n"
     ]
    }
   ],
   "source": [
    "for x in range(0, 3):\n",
    "    print(x)"
   ]
  },
  {
   "cell_type": "code",
   "execution_count": 40,
   "metadata": {},
   "outputs": [],
   "source": [
    "def countWays(s, k):\n",
    "\n",
    "    total_succes = 0\n",
    "\n",
    "    for x in range(0, len(s)-k+1):\n",
    "        start = x\n",
    "        end = x+k\n",
    "        target = s[start: end]\n",
    "        t2 = target[::-1]\n",
    "        newstring = s[:start] + t2 + s[end:]\n",
    "        # newstring = s[end:start]\n",
    "\n",
    "        # print(newstring)\n",
    "        # print(newstring < s)\n",
    "        if newstring < s:\n",
    "            total_succes +=1\n",
    "\n",
    "    return total_succes\n",
    "\n",
    "\n"
   ]
  },
  {
   "cell_type": "code",
   "execution_count": 44,
   "metadata": {},
   "outputs": [
    {
     "data": {
      "text/plain": [
       "0"
      ]
     },
     "execution_count": 44,
     "metadata": {},
     "output_type": "execute_result"
    }
   ],
   "source": [
    "countWays(\"aabc\", 0)"
   ]
  },
  {
   "cell_type": "code",
   "execution_count": null,
   "metadata": {},
   "outputs": [],
   "source": []
  },
  {
   "cell_type": "code",
   "execution_count": 40,
   "metadata": {},
   "outputs": [],
   "source": [
    "def processLogs(logs, threshold):\n",
    "\n",
    "    the_record = {}\n",
    "\n",
    "    # def by_value(xx):\n",
    "    #     return the_record[xx]\n",
    "\n",
    "    for transaction in logs:\n",
    "        [a, b, amount] = transaction.split()\n",
    "        a = int(a)\n",
    "        b = int(b)\n",
    "        if a not in the_record.keys():\n",
    "            the_record[a] = 0\n",
    "        if b not in the_record.keys():\n",
    "            the_record[b] = 0\n",
    "\n",
    "        the_record[a] += 1\n",
    "        if b!=a:\n",
    "            the_record[b] += 1\n",
    "\n",
    "    # sk = sorted(the_record, key=by_value)\n",
    "    # new_dict = {k:the_record[k] for k in sk}\n",
    "\n",
    "    thresholded_list = []\n",
    "    for k, v in the_record.items():\n",
    "        print(f\"k {k} v {v}\")\n",
    "        if v >= threshold:\n",
    "            thresholded_list.append(k)\n",
    "\n",
    "    # print(\"input\")\n",
    "    # print(the_record)\n",
    "    # print(\"output\")\n",
    "    # print(new_dict)\n",
    "    print(f\"thresholded list {thresholded_list}\")\n",
    "    thresholded_list.sort()\n",
    "    print(f\"thresholded list {thresholded_list}\")\n",
    "    list_of_strings = [str(x) for x in thresholded_list]\n",
    "    return list_of_strings\n",
    "\n",
    "\n"
   ]
  },
  {
   "cell_type": "code",
   "execution_count": 41,
   "metadata": {},
   "outputs": [
    {
     "name": "stdout",
     "output_type": "stream",
     "text": [
      "k 1 v 2\n",
      "k 10 v 2\n",
      "thresholded list [1, 10]\n",
      "thresholded list [1, 10]\n"
     ]
    },
    {
     "data": {
      "text/plain": [
       "[1, 10]"
      ]
     },
     "execution_count": 41,
     "metadata": {},
     "output_type": "execute_result"
    }
   ],
   "source": [
    "processLogs(logs, threshold)"
   ]
  },
  {
   "cell_type": "code",
   "execution_count": null,
   "metadata": {},
   "outputs": [],
   "source": []
  }
 ],
 "metadata": {
  "kernelspec": {
   "display_name": "venv",
   "language": "python",
   "name": "python3"
  },
  "language_info": {
   "codemirror_mode": {
    "name": "ipython",
    "version": 3
   },
   "file_extension": ".py",
   "mimetype": "text/x-python",
   "name": "python",
   "nbconvert_exporter": "python",
   "pygments_lexer": "ipython3",
   "version": "3.9.12"
  },
  "orig_nbformat": 4
 },
 "nbformat": 4,
 "nbformat_minor": 2
}
