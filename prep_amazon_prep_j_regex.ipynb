{
 "cells": [
  {
   "cell_type": "markdown",
   "metadata": {},
   "source": [
    "# Coding exercises\n",
    "\n",
    "## regular expressions\n",
    "\n",
    "https://www.geeksforgeeks.org/python-exercises-practice-questions-and-solutions/\n",
    "\n",
    "NOTE there is a good cheat sheet at:\n",
    "\n",
    "https://cheatography.com/davechild/cheat-sheets/regular-expressions/\n",
    "\n",
    "There is a great tutorial at:\n",
    "\n",
    "https://regexone.com/"
   ]
  },
  {
   "cell_type": "code",
   "execution_count": 2,
   "metadata": {},
   "outputs": [],
   "source": [
    "import re"
   ]
  },
  {
   "cell_type": "markdown",
   "metadata": {},
   "source": [
    "# .split()"
   ]
  },
  {
   "cell_type": "code",
   "execution_count": 4,
   "metadata": {},
   "outputs": [
    {
     "data": {
      "text/plain": [
       "['The rain in ', 'pain']"
      ]
     },
     "execution_count": 4,
     "metadata": {},
     "output_type": "execute_result"
    }
   ],
   "source": [
    "txt= \"The rain in Spain\"\n",
    "x = re.split(\"S\", txt)\n",
    "x"
   ]
  },
  {
   "cell_type": "code",
   "execution_count": 5,
   "metadata": {},
   "outputs": [
    {
     "name": "stdout",
     "output_type": "stream",
     "text": [
      "total_items 6\n",
      "total_items 6\n",
      "total_items 6\n",
      "total_items 6\n",
      "total_items 0\n",
      "total_items 0\n",
      "total_items 0\n",
      "total_items 1\n",
      "total_items 0\n",
      "total_items 0\n"
     ]
    }
   ],
   "source": [
    "# This was Amazon interview task #2\n",
    "# calculate the total of items in complete \"bins\" where an item is \"a\" and a bin is delimited by ||\n",
    "# incomplete bin at start or end does not count\n",
    "# expect 6 for the first set of tests, 1 for the |a|, 0 for the rest\n",
    "test_list = [\n",
    "    \"a||aaa||a|aa|a\",\n",
    "    \"||aaa||a|aa|a\",\n",
    "    \"a||aaa||a|aa|\",\n",
    "    \"||aaa||a|aa|\",\n",
    "    \"\",\n",
    "    \"|\",\n",
    "    \"||\",\n",
    "    \"|a|\",\n",
    "    \"a|\",\n",
    "    \"|a\",\n",
    "    ]\n",
    "\n",
    "# note that in every case, the split returns something that needs to be removed - either \"\" or some stragglers\n",
    "# that makes it easy - always get rid of [0] and [-1] from the result\n",
    "def calc_items(str):\n",
    "\n",
    "    y = re.split(\"\\|\", str)  # here it is - split on | this results in \"\" or stragglers\n",
    "    cropped = y[1:len(y)-1]  # thus we just need to drop first and last items\n",
    "\n",
    "    total_items = 0\n",
    "    for compartment in cropped:\n",
    "        total_items += len(compartment)\n",
    "\n",
    "    print(f\"total_items {total_items}\")\n",
    "    return total_items\n",
    "\n",
    "\n",
    "for test in test_list:\n",
    "    calc_items(test)"
   ]
  },
  {
   "cell_type": "code",
   "execution_count": null,
   "metadata": {},
   "outputs": [],
   "source": []
  }
 ],
 "metadata": {
  "kernelspec": {
   "display_name": "venv",
   "language": "python",
   "name": "python3"
  },
  "language_info": {
   "codemirror_mode": {
    "name": "ipython",
    "version": 3
   },
   "file_extension": ".py",
   "mimetype": "text/x-python",
   "name": "python",
   "nbconvert_exporter": "python",
   "pygments_lexer": "ipython3",
   "version": "3.9.12"
  },
  "orig_nbformat": 4
 },
 "nbformat": 4,
 "nbformat_minor": 2
}
