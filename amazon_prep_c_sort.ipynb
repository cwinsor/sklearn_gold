{
 "cells": [
  {
   "cell_type": "markdown",
   "metadata": {},
   "source": [
    "# sort\n",
    "\n",
    "https://www.tutorialspoint.com/python_data_structure/python_sorting_algorithms.htm\n",
    "\n",
    "* Bubble Sort - compare and swap\n",
    "* Merge Sort - divide list\n",
    "* Insertion Sort\n",
    "* Shell Sort\n",
    "* Selection Sort\n"
   ]
  },
  {
   "cell_type": "code",
   "execution_count": 3,
   "metadata": {},
   "outputs": [],
   "source": [
    "import numpy as np"
   ]
  },
  {
   "cell_type": "code",
   "execution_count": 10,
   "metadata": {},
   "outputs": [
    {
     "data": {
      "text/plain": [
       "array([8, 5, 4, 9, 9, 5, 2, 8, 4, 7, 1, 3, 8, 4, 9, 2, 9, 6, 4, 7])"
      ]
     },
     "execution_count": 10,
     "metadata": {},
     "output_type": "execute_result"
    }
   ],
   "source": [
    "# bubble - compare and swap\n",
    "np.random.randint(0, 10, 20)"
   ]
  },
  {
   "cell_type": "code",
   "execution_count": 17,
   "metadata": {},
   "outputs": [
    {
     "name": "stdout",
     "output_type": "stream",
     "text": [
      "[9, 8, 2, 7, 6, 5]\n",
      "[2, 6, 5, 7, 8, 9]\n",
      "[1, 6, 2, 7, 8, 9, 5]\n"
     ]
    }
   ],
   "source": [
    "h = [9, 8, 2, 7, 6, 5]\n",
    "print(h)\n",
    "heapq.heapify(h)\n",
    "print(h)\n",
    "heapq.heappush(h, 1) # maintains heap invariant\n",
    "print(h)"
   ]
  },
  {
   "cell_type": "code",
   "execution_count": 18,
   "metadata": {},
   "outputs": [
    {
     "name": "stdout",
     "output_type": "stream",
     "text": [
      "1\n",
      "2\n",
      "5\n",
      "6\n",
      "7\n",
      "8\n",
      "9\n",
      "[]\n"
     ]
    }
   ],
   "source": [
    "while(h):\n",
    "    print(heapq.heappop(h))\n",
    "print(h)"
   ]
  },
  {
   "cell_type": "markdown",
   "metadata": {},
   "source": [
    "### nsmallest with key function ..."
   ]
  },
  {
   "cell_type": "code",
   "execution_count": 57,
   "metadata": {},
   "outputs": [
    {
     "name": "stdout",
     "output_type": "stream",
     "text": [
      "[8, 9, 7, 6]\n",
      "[8, 9, 7]\n",
      "[8, 9, 7, 6, 5]\n"
     ]
    }
   ],
   "source": [
    "def distance_from_8(x):\n",
    "    return abs(8 - x)\n",
    "\n",
    "h = [9, 8, 1, 5, 3, 2, 7, 6, 5]\n",
    "print(heapq.nsmallest(4, h, key=distance_from_8))\n",
    "print(heapq.nsmallest(3, h, key=distance_from_8))\n",
    "print(heapq.nsmallest(5, h, key=distance_from_8))"
   ]
  },
  {
   "cell_type": "markdown",
   "metadata": {},
   "source": [
    "### merge\n",
    "\n",
    "interestingly, the \"merge\" takes two sorted lists (iterables) returning an iterable. Because it starts with sorted lists (not heaps) and returns an iterable (not a heap) I'm not sure why this is part of \"heap\" ..."
   ]
  },
  {
   "cell_type": "code",
   "execution_count": 51,
   "metadata": {},
   "outputs": [
    {
     "name": "stdout",
     "output_type": "stream",
     "text": [
      "[2, 2, 3]\n",
      "[]\n"
     ]
    }
   ],
   "source": [
    "h1 = [9, 8, 2, 7, 6, 5]\n",
    "h2 = [2, 3, 4]\n",
    "heapq.heapify(h1)\n",
    "heapq.heapify(h2)\n",
    "h3 = heapq.merge(h1, h2) # merge returns an iterator\n",
    "print(heapq.nsmallest(3, h3))\n",
    "print(heapq.nsmallest(3, h3))\n"
   ]
  },
  {
   "cell_type": "markdown",
   "metadata": {},
   "source": [
    "### merge with key function..."
   ]
  },
  {
   "cell_type": "code",
   "execution_count": 36,
   "metadata": {},
   "outputs": [
    {
     "name": "stdout",
     "output_type": "stream",
     "text": [
      "2\n",
      "2\n",
      "3\n",
      "4\n",
      "6\n",
      "5\n",
      "7\n",
      "8\n",
      "9\n"
     ]
    },
    {
     "data": {
      "text/plain": [
       "[]"
      ]
     },
     "execution_count": 36,
     "metadata": {},
     "output_type": "execute_result"
    }
   ],
   "source": [
    "h1 = [9, 8, 2, 7, 6, 5]\n",
    "h2 = [2, 3, 4]\n",
    "heapq.heapify(h1)\n",
    "heapq.heapify(h2)\n",
    "\n",
    "# y = heapq.merge(h1, h2, key=distance_from_8) # merge using the function\n",
    "y = heapq.merge(h1, h2)\n",
    "for yn in y:\n",
    "    print(yn)\n",
    "list(y)"
   ]
  },
  {
   "cell_type": "code",
   "execution_count": null,
   "metadata": {},
   "outputs": [],
   "source": []
  }
 ],
 "metadata": {
  "kernelspec": {
   "display_name": "venv",
   "language": "python",
   "name": "python3"
  },
  "language_info": {
   "codemirror_mode": {
    "name": "ipython",
    "version": 3
   },
   "file_extension": ".py",
   "mimetype": "text/x-python",
   "name": "python",
   "nbconvert_exporter": "python",
   "pygments_lexer": "ipython3",
   "version": "3.9.12"
  },
  "orig_nbformat": 4
 },
 "nbformat": 4,
 "nbformat_minor": 2
}
