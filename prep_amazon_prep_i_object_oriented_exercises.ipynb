{
 "cells": [
  {
   "cell_type": "markdown",
   "metadata": {},
   "source": [
    "# Coding exercises\n",
    "\n",
    "## object-oriented programming exercises...\n",
    "\n",
    "* flashcard\n",
    "\n",
    "https://www.geeksforgeeks.org/python-exercises-practice-questions-and-solutions/"
   ]
  },
  {
   "cell_type": "code",
   "execution_count": 16,
   "metadata": {},
   "outputs": [],
   "source": [
    "class Card():\n",
    "    word = None\n",
    "    meaning = None\n",
    "\n",
    "    def __init__(self, word, meaning):\n",
    "        self.word = word\n",
    "        self.meaning = meaning\n",
    "\n",
    "    def __str__(self):\n",
    "        return f\"{self.word} --> {self.meaning}\""
   ]
  },
  {
   "cell_type": "code",
   "execution_count": 17,
   "metadata": {},
   "outputs": [],
   "source": [
    "# card_stack = list()\n",
    "# card_stack.append(Card(\"apple\", \"an apple\"))\n",
    "# card_stack.append(Card(\"baker\", \"a baker\"))\n",
    "# card_stack.append(Card(\"charlie\", \"a charlie\"))\n",
    "# card_stack.append(Card(\"dogma\", \"a dogma\"))\n",
    "# card_stack.append(Card(\"elias\", \"an elias\"))\n",
    "# card_stack.append(Card(\"forthright\", \"is forthright\"))\n",
    "# card_stack.append(Card(\"gavel\", \"a gavel\"))"
   ]
  },
  {
   "cell_type": "code",
   "execution_count": 18,
   "metadata": {},
   "outputs": [
    {
     "name": "stdout",
     "output_type": "stream",
     "text": [
      "--- card stack -----\n",
      "apple --> an apple\n",
      "baker --> a baker\n"
     ]
    }
   ],
   "source": [
    "card_stack = list()\n",
    "\n",
    "while True:\n",
    "    word = input(\"Enter word (or 'q' to quit):\")\n",
    "    if word == \"q\":\n",
    "        break\n",
    "    meaning = input(\"Enter meaning\")\n",
    "    card_stack.append(Card(word, meaning))\n",
    "\n",
    "print(\"--- card stack -----\")                      \n",
    "for c in card_stack:\n",
    "    print(c)"
   ]
  },
  {
   "cell_type": "code",
   "execution_count": 20,
   "metadata": {},
   "outputs": [
    {
     "name": "stdout",
     "output_type": "stream",
     "text": [
      "--- card stack before shuffle -----\n",
      "apple --> an apple\n",
      "baker --> a baker\n",
      "charlie --> a charlie\n",
      "dogma --> a dogma\n",
      "elias --> an elias\n",
      "forthright --> is forthright\n",
      "gavel --> a gavel\n",
      "--- card stack after shuffle -----\n",
      "elias --> an elias\n",
      "dogma --> a dogma\n",
      "forthright --> is forthright\n",
      "baker --> a baker\n",
      "apple --> an apple\n",
      "charlie --> a charlie\n",
      "gavel --> a gavel\n"
     ]
    }
   ],
   "source": [
    "# shuffle the deck of cards\n",
    "import random\n",
    "\n",
    "card_stack = list()\n",
    "card_stack.append(Card(\"apple\", \"an apple\"))\n",
    "card_stack.append(Card(\"baker\", \"a baker\"))\n",
    "card_stack.append(Card(\"charlie\", \"a charlie\"))\n",
    "card_stack.append(Card(\"dogma\", \"a dogma\"))\n",
    "card_stack.append(Card(\"elias\", \"an elias\"))\n",
    "card_stack.append(Card(\"forthright\", \"is forthright\"))\n",
    "card_stack.append(Card(\"gavel\", \"a gavel\"))\n",
    "print(\"--- card stack before shuffle -----\")                      \n",
    "for c in card_stack:\n",
    "    print(c)\n",
    "\n",
    "random.shuffle(card_stack)\n",
    "print(\"--- card stack after shuffle -----\")                      \n",
    "for c in card_stack:\n",
    "    print(c)\n"
   ]
  }
 ],
 "metadata": {
  "kernelspec": {
   "display_name": "venv",
   "language": "python",
   "name": "python3"
  },
  "language_info": {
   "codemirror_mode": {
    "name": "ipython",
    "version": 3
   },
   "file_extension": ".py",
   "mimetype": "text/x-python",
   "name": "python",
   "nbconvert_exporter": "python",
   "pygments_lexer": "ipython3",
   "version": "3.9.12"
  },
  "orig_nbformat": 4
 },
 "nbformat": 4,
 "nbformat_minor": 2
}
