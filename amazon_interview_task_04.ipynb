{
 "cells": [
  {
   "cell_type": "markdown",
   "metadata": {},
   "source": [
    "# Amazon Interview Task #\n",
    "\n",
    "count the number of maximally profitable groups\n",
    "\n",
    "a maximally profitable group is a sequence one where the start or end value is max for the group\n",
    "\n"
   ]
  },
  {
   "cell_type": "code",
   "execution_count": 6,
   "metadata": {},
   "outputs": [
    {
     "name": "stdout",
     "output_type": "stream",
     "text": [
      "[2]\n",
      "[2, 3]\n",
      "[2, 3, 2]\n",
      "[3]\n",
      "[3, 2]\n",
      "[2]\n",
      "5\n"
     ]
    }
   ],
   "source": [
    "full_data = [2, 3, 2]\n",
    "\n",
    "maximal_count = 0\n",
    "\n",
    "for start in range(0, len(full_data)):\n",
    "    for end in range(start+1, len(full_data)+1):\n",
    "        target = full_data[start:end]\n",
    "        print(target)\n",
    "\n",
    "        max_in_target = max(target)\n",
    "\n",
    "        if target[0] == max_in_target or target[-1]== max_in_target:\n",
    "            maximal_count += 1\n",
    "\n",
    "print(maximal_count)\n"
   ]
  },
  {
   "cell_type": "code",
   "execution_count": 8,
   "metadata": {},
   "outputs": [],
   "source": [
    "def countMaximumProfitableGroups(stockPrice):\n",
    "\n",
    "    maximal_count = 0\n",
    "\n",
    "    for start in range(0, len(stockPrice)):\n",
    "        for end in range(start+1, len(stockPrice)+1):\n",
    "            target = stockPrice[start:end]\n",
    "            # print(target)\n",
    "\n",
    "            max_in_target = max(target)\n",
    "\n",
    "            if target[0] == max_in_target or target[-1]== max_in_target:\n",
    "                maximal_count += 1\n",
    "\n",
    "    return maximal_count\n"
   ]
  },
  {
   "cell_type": "code",
   "execution_count": 9,
   "metadata": {},
   "outputs": [
    {
     "name": "stdout",
     "output_type": "stream",
     "text": [
      "5\n"
     ]
    }
   ],
   "source": [
    "full_data = [2, 3, 2]\n",
    "\n",
    "print(countMaximumProfitableGroups(full_data))"
   ]
  },
  {
   "cell_type": "code",
   "execution_count": null,
   "metadata": {},
   "outputs": [],
   "source": []
  }
 ],
 "metadata": {
  "kernelspec": {
   "display_name": "venv",
   "language": "python",
   "name": "python3"
  },
  "language_info": {
   "codemirror_mode": {
    "name": "ipython",
    "version": 3
   },
   "file_extension": ".py",
   "mimetype": "text/x-python",
   "name": "python",
   "nbconvert_exporter": "python",
   "pygments_lexer": "ipython3",
   "version": "3.9.12"
  },
  "orig_nbformat": 4
 },
 "nbformat": 4,
 "nbformat_minor": 2
}
